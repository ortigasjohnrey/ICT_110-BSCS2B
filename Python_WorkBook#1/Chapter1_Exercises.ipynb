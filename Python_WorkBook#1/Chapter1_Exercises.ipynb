{
  "nbformat": 4,
  "nbformat_minor": 0,
  "metadata": {
    "colab": {
      "provenance": []
    },
    "kernelspec": {
      "name": "python3",
      "display_name": "Python 3"
    },
    "language_info": {
      "name": "python"
    }
  },
  "cells": [
    {
      "cell_type": "markdown",
      "source": [],
      "metadata": {
        "id": "aMWTEUi_7Gay"
      }
    },
    {
      "cell_type": "markdown",
      "source": [
        "## EXERCISES"
      ],
      "metadata": {
        "id": "hgmwXH4Y0BUi"
      }
    },
    {
      "cell_type": "markdown",
      "source": [
        "#### Exercise 1\n",
        "\n",
        "Each line of code below contains an **error**. Fix the error and explain in a comment the reason for the error."
      ],
      "metadata": {
        "id": "m0OCOK8k0c7f"
      }
    },
    {
      "cell_type": "markdown",
      "source": [
        "1. Print('Hello world!')\n",
        "    \n",
        "    * Name of Error: ***Print***"
      ],
      "metadata": {
        "id": "mKpXlpfq1bJ1"
      }
    },
    {
      "cell_type": "code",
      "source": [
        "print('Hello world!') #print function in python must be in all small letters"
      ],
      "metadata": {
        "colab": {
          "base_uri": "https://localhost:8080/"
        },
        "id": "ZWcbZ-lM1D8h",
        "outputId": "96823193-8e12-426c-b088-591db3a82f03"
      },
      "execution_count": 2,
      "outputs": [
        {
          "output_type": "stream",
          "name": "stdout",
          "text": [
            "Hello world!\n"
          ]
        }
      ]
    },
    {
      "cell_type": "markdown",
      "source": [
        "2. print'Hello world!')\n",
        "\n",
        "* Name of Error: ***'Hello world!')***"
      ],
      "metadata": {
        "id": "PtBlymc-3IrX"
      }
    },
    {
      "cell_type": "code",
      "source": [
        "print('Hello world!') #parenthesis must be in pair"
      ],
      "metadata": {
        "id": "9zGjXCNA3FpS"
      },
      "execution_count": null,
      "outputs": []
    },
    {
      "cell_type": "markdown",
      "source": [
        "3. print('Hello world!)\n",
        "\n",
        "* Name of Error: ***('Hello world!)***"
      ],
      "metadata": {
        "id": "yr0r2ceq3w3c"
      }
    },
    {
      "cell_type": "code",
      "source": [
        "print('Hello world!') #single quotation must be in pair"
      ],
      "metadata": {
        "id": "pa7ob8jT39sL"
      },
      "execution_count": null,
      "outputs": []
    },
    {
      "cell_type": "markdown",
      "source": [
        "4. print('Hello world!'')\n",
        "\n",
        "* Name of Error: ***print('Hello world!'')***"
      ],
      "metadata": {
        "id": "ypnv3Fm64PAM"
      }
    },
    {
      "cell_type": "code",
      "source": [
        "print('Hello world!') #eradicate the excess one quotation marks at the last part"
      ],
      "metadata": {
        "id": "Y71-UQ8J4dba"
      },
      "execution_count": null,
      "outputs": []
    },
    {
      "cell_type": "markdown",
      "source": [
        "#### Exercise 2\n",
        "What is the output of the code below? [PEW]"
      ],
      "metadata": {
        "id": "uLS89kk-431Z"
      }
    },
    {
      "cell_type": "code",
      "source": [
        "x = 43\n",
        "x = x + 1\n",
        "print(x)\n",
        "\n",
        "#The output is 44 because x is already initialized at 43. Later on x variable is incrementing by 1."
      ],
      "metadata": {
        "colab": {
          "base_uri": "https://localhost:8080/"
        },
        "id": "UbynRZz55Gip",
        "outputId": "1c1d22c6-9cad-413d-c9a4-b31571011815"
      },
      "execution_count": 3,
      "outputs": [
        {
          "output_type": "stream",
          "name": "stdout",
          "text": [
            "44\n"
          ]
        }
      ]
    },
    {
      "cell_type": "markdown",
      "source": [
        "#### Exercise 3\n",
        "The code below contains an error. Fix the error and explain in a comment the reason for the error."
      ],
      "metadata": {
        "id": "5XobNbOB5tXA"
      }
    },
    {
      "cell_type": "code",
      "source": [
        "# the X variable hasn't been declared and initialized\n",
        "# x = 43\n",
        "# x = X + 1\n",
        "# print(x)\n",
        "\n",
        "x = 43\n",
        "x = x + 1\n",
        "print(x)"
      ],
      "metadata": {
        "colab": {
          "base_uri": "https://localhost:8080/"
        },
        "id": "n3ujx_ox5zqZ",
        "outputId": "9c514565-0d8c-40bc-bfb4-60e7d5f142be"
      },
      "execution_count": 4,
      "outputs": [
        {
          "output_type": "stream",
          "name": "stdout",
          "text": [
            "44\n"
          ]
        }
      ]
    },
    {
      "cell_type": "markdown",
      "source": [
        "# CHAPTER 2 - Variables, Expressions, and Statements"
      ],
      "metadata": {
        "id": "Quu2GKBe6Hmh"
      }
    },
    {
      "cell_type": "markdown",
      "source": [
        "#### Exercise 1"
      ],
      "metadata": {
        "id": "iEoHGNBB6OCG"
      }
    },
    {
      "cell_type": "markdown",
      "source": [
        "Write a program that uses input to prompt a user for their name and then welcomes them.\n",
        "```\n",
        "Enter your name: Chuck\n",
        "Hello Chuck\n",
        "```\n",
        "\n",
        "[PEW] E2.2"
      ],
      "metadata": {
        "id": "-YQLA1uG7vJy"
      }
    },
    {
      "cell_type": "code",
      "source": [
        "name = str(input(\"Enter your name: \"))\n",
        "print(\"Welcome \" + name)"
      ],
      "metadata": {
        "colab": {
          "base_uri": "https://localhost:8080/"
        },
        "id": "__zOi8hh9G6O",
        "outputId": "53e3a275-97a9-4942-c595-f10ad0a8e024"
      },
      "execution_count": 1,
      "outputs": [
        {
          "output_type": "stream",
          "name": "stdout",
          "text": [
            "Enter your name: Chuck\n",
            "Welcome Chuck\n"
          ]
        }
      ]
    },
    {
      "cell_type": "markdown",
      "source": [
        "#### Exercise 2"
      ],
      "metadata": {
        "id": "hTxlnfFo9hSR"
      }
    },
    {
      "cell_type": "markdown",
      "source": [
        "Write a program to prompt the user for hours and rate per hour to compute gross pay.\n",
        "```\n",
        "Enter Hours: 35\n",
        "Enter Rate: 2.75\n",
        "Pay: 96.25\n",
        "```\n",
        "\n",
        "[PEW] E2.3"
      ],
      "metadata": {
        "id": "cl6VFhr09kl1"
      }
    },
    {
      "cell_type": "code",
      "source": [
        "hours = int(input(\"Enter Hours: \"))\n",
        "rate = float(input(\"Enter Rate: \"))\n",
        "print(\"Pay: \" + str((hours) * rate))"
      ],
      "metadata": {
        "colab": {
          "base_uri": "https://localhost:8080/"
        },
        "id": "bsqbuxAk9pBd",
        "outputId": "166de755-718a-439a-bc59-9ddaebd1947f"
      },
      "execution_count": 7,
      "outputs": [
        {
          "output_type": "stream",
          "name": "stdout",
          "text": [
            "Enter Hours: 35\n",
            "Enter Rate: 2.75\n",
            "Pay: 96.25\n"
          ]
        }
      ]
    },
    {
      "cell_type": "markdown",
      "source": [
        "#### Exercise 3"
      ],
      "metadata": {
        "id": "E1IFOJL3-v_u"
      }
    },
    {
      "cell_type": "markdown",
      "source": [
        "Assume that we execute the following assignment statements:\n",
        "```python\n",
        "width = 17\n",
        "height = 12.0\n",
        "```\n",
        "For each of the following expressions, write the value of the expression and the type (of the value of the expression).\n",
        "```python\n",
        "width//2\n",
        "width/2.0\n",
        "height/3\n",
        "1 + 2 * 5\n",
        "```\n",
        "\n",
        "[PEW] E2.4"
      ],
      "metadata": {
        "id": "bUGUA0zm-zUm"
      }
    },
    {
      "cell_type": "code",
      "source": [
        "width = 17\n",
        "height = 12.0\n",
        "\n",
        "width//2  #8 <class 'int'>\n",
        "width/2.0 #8.5 <class 'float'>\n",
        "height/3  #4.0 <class 'float'>\n",
        "1 + 2 * 5 #11 <class 'int'>\n"
      ],
      "metadata": {
        "colab": {
          "base_uri": "https://localhost:8080/"
        },
        "id": "42aS97s6-2H8",
        "outputId": "4c4bca63-e39b-40d0-e8db-adf7617426bb"
      },
      "execution_count": 12,
      "outputs": [
        {
          "output_type": "stream",
          "name": "stdout",
          "text": [
            "8 <class 'int'>\n",
            "8.5 <class 'float'>\n",
            "4.0 <class 'float'>\n",
            "11 <class 'int'>\n"
          ]
        }
      ]
    },
    {
      "cell_type": "markdown",
      "source": [
        "#### Exercise 4\n",
        "\n",
        "Write a program that uses input to prompt a user for a number and then outputs the square of the number\n",
        "```\n",
        "Enter a number: 3\n",
        "The square of 3 is 9\n",
        "```"
      ],
      "metadata": {
        "id": "cRLmgM3VA8oB"
      }
    },
    {
      "cell_type": "code",
      "source": [
        "number = int(input(\"Enter a number: \"))\n",
        "print(\"The square of \", number,\" is \",number**2)"
      ],
      "metadata": {
        "colab": {
          "base_uri": "https://localhost:8080/"
        },
        "id": "LYMsvsITBAF2",
        "outputId": "287f1ec7-cd71-40b5-9e6d-d2deb243284e"
      },
      "execution_count": 18,
      "outputs": [
        {
          "output_type": "stream",
          "name": "stdout",
          "text": [
            "Enter a number: 3\n",
            "The square of  3  is  9\n"
          ]
        }
      ]
    },
    {
      "cell_type": "markdown",
      "source": [
        "## CHALLENGE"
      ],
      "metadata": {
        "id": "xjKR-RijHCM9"
      }
    },
    {
      "cell_type": "markdown",
      "source": [
        "Write a program which prompts the user for a Celsius temperature, convert the temperature to Fahrenheit, and print out the converted temperature.\n",
        "\n",
        "[PEW] E2.5"
      ],
      "metadata": {
        "id": "ISqTfTaOHGYS"
      }
    },
    {
      "cell_type": "code",
      "source": [
        "celsius = int(input(\"Enter temperature in celsius: \"))\n",
        "fahrenheit = ((celsius * 9) / 5) + 32\n",
        "print(\"Celsius to Fahrenheit:\", fahrenheit)"
      ],
      "metadata": {
        "colab": {
          "base_uri": "https://localhost:8080/"
        },
        "id": "2Qk7P93fHJG2",
        "outputId": "73c15773-3a4b-48e9-deee-37087434da9b"
      },
      "execution_count": 1,
      "outputs": [
        {
          "output_type": "stream",
          "name": "stdout",
          "text": [
            "Enter temperature in celsius: 32\n",
            "Celsius to Fahrenheit: 89.6\n"
          ]
        }
      ]
    },
    {
      "cell_type": "markdown",
      "source": [
        "# CHAPTER 3 - Conditional Execution"
      ],
      "metadata": {
        "id": "sRL4D6-Ql1i1"
      }
    },
    {
      "cell_type": "markdown",
      "source": [
        "#### Exercise 1"
      ],
      "metadata": {
        "id": "Yk36pp7SwA5Q"
      }
    },
    {
      "cell_type": "markdown",
      "source": [
        "In the code below, which will never print regardless of the value for x? Edit the code to correct the error.\n",
        "\n",
        "```python\n",
        "if x > 0 :\n",
        "    print('Above 0')\n",
        "elif x >  10 :\n",
        "    print('Above 10')\n",
        "elif x > 50 :\n",
        "    print('Above 50')\n",
        "elif x >  20 :\n",
        "    print('Above 20')\n",
        "else :\n",
        "    print('Something else')\n",
        "```\n"
      ],
      "metadata": {
        "id": "TplVwDuQwMll"
      }
    },
    {
      "cell_type": "code",
      "source": [
        "x = int(input(\"Enter value for x: \"))\n",
        "if x > 0 and x <= 10:\n",
        "    print('Above 0')\n",
        "elif x >  10 and x <= 20 :\n",
        "    print('Above 20')\n",
        "elif x > 20 and x <= 50:\n",
        "    print('Above 20')\n",
        "elif x > 50:\n",
        "    print('Above 50')\n",
        "else :\n",
        "    print('Something else')"
      ],
      "metadata": {
        "colab": {
          "base_uri": "https://localhost:8080/"
        },
        "id": "AFXchXDOwQSl",
        "outputId": "56addd7a-011b-4e94-a699-680e7256a84c"
      },
      "execution_count": 3,
      "outputs": [
        {
          "output_type": "stream",
          "name": "stdout",
          "text": [
            "Enter value for x: 23\n",
            "Above 20\n"
          ]
        }
      ]
    },
    {
      "cell_type": "markdown",
      "source": [
        "#### Exercise 2"
      ],
      "metadata": {
        "id": "jhrc4_DayMTL"
      }
    },
    {
      "cell_type": "markdown",
      "source": [
        "Write your salary computation to give an employee 1.5 times the hourly rate for hours worked above 40 hours. Example:\n",
        "\n",
        "    Enter Hours: 45\n",
        "    Enter Rate: 10\n",
        "    Pay: 475.0\n",
        "    \n",
        "[PEW] E3.2"
      ],
      "metadata": {
        "id": "nSNn-SIYyM4I"
      }
    },
    {
      "cell_type": "code",
      "source": [
        "hours = int(input(\"Enter Hours:\"))\n",
        "rate = int(input(\"Enter Rate: \"))\n",
        "\n",
        "if hours > 40:\n",
        "  time = (hours - 40)\n",
        "  pay = ((rate * time)*1.5) + ((rate*(hours - time)))\n",
        "\n",
        "print(\"Pay: \", pay)"
      ],
      "metadata": {
        "colab": {
          "base_uri": "https://localhost:8080/"
        },
        "id": "A243UA9WyRs-",
        "outputId": "1a78cfae-dcf4-494a-a874-f060ae7eef57"
      },
      "execution_count": 15,
      "outputs": [
        {
          "output_type": "stream",
          "name": "stdout",
          "text": [
            "Enter Hours:45\n",
            "Enter Rate: 10\n",
            "Pay:  475.0\n"
          ]
        }
      ]
    },
    {
      "cell_type": "markdown",
      "source": [
        "## CHALLENGE"
      ],
      "metadata": {
        "id": "pGlVrf6T7fbP"
      }
    },
    {
      "cell_type": "markdown",
      "source": [
        "Write a program to prompt for a score between 0 and 100 and print a grade using the following table:\n",
        "\n",
        "    Score           Grade\n",
        "    [ 97, 100]      1.0\n",
        "    [ 93,  97)\t\t1.25\n",
        "    [ 89,  93)\t\t1.5\n",
        "    [ 85,  89)\t\t1.75\n",
        "    [ 81,  85)\t\t2.0\n",
        "    [ 77,  81)\t\t2.25\n",
        "    [ 74,  77)\t\t2.5\n",
        "    [ 0,   74)\t\t3.0\n",
        "\n",
        "Adapted from [PEW] E3.3\n",
        "<br>"
      ],
      "metadata": {
        "id": "R-_sxxFR7jQ-"
      }
    },
    {
      "cell_type": "code",
      "source": [
        "score = int(input(\"Enter your score: \"))\n",
        "\n",
        "if score >= 97 and score <= 100:\n",
        "  print(\"Grade: 1.0 \")\n",
        "elif score >= 93 and score < 97:\n",
        "  print(\"Grade: 1.25 \")\n",
        "elif score >= 89 and score < 93:\n",
        "  print(\"Grade: 1.5 \")\n",
        "elif score >= 85 and score < 89:\n",
        "  print(\"Grade: 1.75 \")\n",
        "elif score >= 81 and score < 85:\n",
        "  print(\"Grade: 2.0 \")\n",
        "elif score >= 77 and score < 81:\n",
        "  print(\"Grade: 2.25 \")\n",
        "elif score >= 74 and score < 77:\n",
        "  print(\"Grade: 2.5 \")\n",
        "elif score >= 0 and score < 74:\n",
        "  print(\"Grade: 3.0 \")\n",
        "else:\n",
        "  print(\"Failure!\")"
      ],
      "metadata": {
        "colab": {
          "base_uri": "https://localhost:8080/"
        },
        "id": "pr1qnQ3971qU",
        "outputId": "6e82c428-9fb8-4884-bf5a-056ef4f3084d"
      },
      "execution_count": 18,
      "outputs": [
        {
          "output_type": "stream",
          "name": "stdout",
          "text": [
            "Enter your score: 74\n",
            "Grade: 2.5 \n"
          ]
        }
      ]
    },
    {
      "cell_type": "markdown",
      "source": [
        "# CHAPTER 4 - Functions"
      ],
      "metadata": {
        "id": "UCgEwvyd-tbL"
      }
    },
    {
      "cell_type": "markdown",
      "source": [
        "## EXERCISES"
      ],
      "metadata": {
        "id": "gucNVsil-uRO"
      }
    },
    {
      "cell_type": "markdown",
      "source": [
        "#### Exercise 1"
      ],
      "metadata": {
        "id": "maDMPqLW-9Mx"
      }
    },
    {
      "cell_type": "markdown",
      "source": [
        "Rewrite your pay computation with time-and-a-half for overtime and create a function called compute pay which takes two parameters (hours and rate).\n",
        "\n",
        "    Enter Hours: 45\n",
        "    Enter Rate: 10\n",
        "    Pay: 475.0\n",
        "    \n",
        "[PEW] E4.6"
      ],
      "metadata": {
        "id": "LETCxsx6Cm3i"
      }
    },
    {
      "cell_type": "code",
      "source": [
        "hours = int(input(\"Enter Hours:\"))\n",
        "rate = int(input(\"Enter Rate: \"))\n",
        "\n",
        "def compute_pay(hours, rate):\n",
        "  pay = int()\n",
        "  if hours <= 40:\n",
        "    pay = rate*hours\n",
        "    return float(pay)\n",
        "  elif hours > 40:\n",
        "    time = (hours - 40)\n",
        "    pay = ((rate * time)*1.5) + ((rate*(hours - time)))\n",
        "    return float (pay)\n",
        "print(\"Pay: \", compute_pay(hours, rate))"
      ],
      "metadata": {
        "colab": {
          "base_uri": "https://localhost:8080/"
        },
        "id": "jhmbVottCoc2",
        "outputId": "adf007b2-0913-4d8c-f05e-225d7aa0b730"
      },
      "execution_count": 30,
      "outputs": [
        {
          "output_type": "stream",
          "name": "stdout",
          "text": [
            "Enter Hours:39\n",
            "Enter Rate: 10\n",
            "Pay:  390.0\n"
          ]
        }
      ]
    },
    {
      "cell_type": "markdown",
      "source": [
        "##CHALLENGE\n",
        "\n",
        "Write a function called computegrade that takes a score as its parameter and returns a grade as a string using the following table:\n",
        "\n",
        "    Score           Grade\n",
        "    [ 97, 100]      1.0\n",
        "    [ 93,  97)\t\t1.25\n",
        "    [ 89,  93)\t\t1.5\n",
        "    [ 85,  89)\t\t1.75\n",
        "    [ 81,  85)\t\t2.0\n",
        "    [ 77,  81)\t\t2.25\n",
        "    [ 74,  77)\t\t2.5\n",
        "    [ 0,   74)\t\t3.0\n",
        "\n",
        "    Run the program repeatedly to test the various different values for input.\n",
        "    \n",
        "Adapted from [PEW] E4.6\n",
        "<br>"
      ],
      "metadata": {
        "id": "yPwvj-0VOaC2"
      }
    },
    {
      "cell_type": "code",
      "source": [
        "score = int(input(\"Enter your score: \"))\n",
        "\n",
        "def computegrade(score):\n",
        "  if score >= 97 and score <= 100:\n",
        "    print(\"Grade: 1.0 \")\n",
        "  elif score >= 93 and score < 97:\n",
        "    print(\"Grade: 1.25 \")\n",
        "  elif score >= 89 and score < 93:\n",
        "    print(\"Grade: 1.5 \")\n",
        "  elif score >= 85 and score < 89:\n",
        "    print(\"Grade: 1.75 \")\n",
        "  elif score >= 81 and score < 85:\n",
        "    print(\"Grade: 2.0 \")\n",
        "  elif score >= 77 and score < 81:\n",
        "    print(\"Grade: 2.25 \")\n",
        "  elif score >= 74 and score < 77:\n",
        "    print(\"Grade: 2.5 \")\n",
        "  elif score >= 0 and score < 74:\n",
        "    print(\"Grade: 3.0 \")\n",
        "  else:\n",
        "    print(\"Failure!\")\n",
        "while score != -1:\n",
        "  computegrade(score)\n",
        "  score = int(input(\"Enter your score: \"))"
      ],
      "metadata": {
        "colab": {
          "base_uri": "https://localhost:8080/"
        },
        "id": "YTsaqI9vOdx_",
        "outputId": "4b48c31f-599d-47cb-c123-ae84c766bebb"
      },
      "execution_count": 34,
      "outputs": [
        {
          "name": "stdout",
          "output_type": "stream",
          "text": [
            "Enter your score: 39\n",
            "Grade: 3.0 \n",
            "Enter your score: 10\n",
            "Grade: 3.0 \n",
            "Enter your score: 0\n"
          ]
        }
      ]
    },
    {
      "cell_type": "markdown",
      "source": [
        "##EXERCISES"
      ],
      "metadata": {
        "id": "kwO2uPaVWa9M"
      }
    },
    {
      "cell_type": "markdown",
      "source": [
        "Investigate on the difference between `is` and `==` given the following variables.\n",
        "```python\n",
        "a = 2\n",
        "b = 2.0\n",
        "c = a\n"
      ],
      "metadata": {
        "id": "IkYMs5qAWjUW"
      }
    },
    {
      "cell_type": "code",
      "source": [
        "a = 2\n",
        "b = 2.0\n",
        "c = a\n",
        "\n",
        "# is: This operator determines whether two variables point to the same memory object.\n",
        "# ==: This operator verifies that the values are equal.\n",
        "\n",
        "\n",
        "print(a is c)  # True, because they refer to the same object in memory.\n",
        "print(a == c)  # True, because their values are equal.\n",
        "print(a is b)  # False, because they are different objects in memory.\n",
        "print(a == b)  # True, because their values are equal.\n",
        "# In summary:\n",
        "\n",
        "# is compares whether two variables refer to the same object in memory.\n",
        "# == compares whether the values of two variables are equal."
      ],
      "metadata": {
        "colab": {
          "base_uri": "https://localhost:8080/"
        },
        "id": "Ft5htmcZWkMu",
        "outputId": "c52f9def-61e6-4f5c-8d16-108a64232fe4"
      },
      "execution_count": 35,
      "outputs": [
        {
          "output_type": "stream",
          "name": "stdout",
          "text": [
            "True\n",
            "True\n",
            "False\n",
            "True\n"
          ]
        }
      ]
    },
    {
      "cell_type": "markdown",
      "source": [
        "Write a program which repeatedly reads numbers until the user enters \"done\". Once \"done\" is entered, print out the total, count, and average of the numbers. If the user enters anything other than a number, detect their mistake using try and except and print an error message and skip to the next number.\n",
        "\n",
        "    Enter a number: 4\n",
        "    Enter a number: 5\n",
        "    Enter a number: bad data\n",
        "    Invalid input\n",
        "    Enter a number: 7\n",
        "    Enter a number: done\n",
        "    16 3 5.333333333333333\n",
        "    \n",
        "[PEW] E5.1"
      ],
      "metadata": {
        "id": "KhjLOZzxb-TN"
      }
    },
    {
      "cell_type": "code",
      "source": [
        "total = 0\n",
        "count = 0\n",
        "\n",
        "while True:\n",
        "    try:\n",
        "        User = input(\"Enter a number: \")\n",
        "        if User.lower() == \"done\":\n",
        "            break\n",
        "        number = float(User)\n",
        "        total += number\n",
        "        count += 1\n",
        "    except ValueError:\n",
        "        print(\"Invalid input\")\n",
        "\n",
        "if count > 0:\n",
        "    average = total / count\n",
        "    print(int(total), count, average)\n",
        "else:\n",
        "    print(\"Invalid Number\")\n"
      ],
      "metadata": {
        "colab": {
          "base_uri": "https://localhost:8080/"
        },
        "id": "ctWJWGkIb_DT",
        "outputId": "0b3007eb-13b5-42db-e83a-38b13158049e"
      },
      "execution_count": 37,
      "outputs": [
        {
          "output_type": "stream",
          "name": "stdout",
          "text": [
            "Enter a number: 1\n",
            "Enter a number: 2\n",
            "Enter a number: done\n",
            "3 2 1.5\n"
          ]
        }
      ]
    }
  ]
}